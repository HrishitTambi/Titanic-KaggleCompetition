{
 "cells": [
  {
   "cell_type": "code",
   "execution_count": 1,
   "id": "12c0d8bc",
   "metadata": {
    "_cell_guid": "63d40275-baef-4e26-ba8c-361eef448d28",
    "_uuid": "ae0c2b1e-62df-4265-b390-a0daae0ae283",
    "collapsed": false,
    "execution": {
     "iopub.execute_input": "2022-12-31T17:33:05.292701Z",
     "iopub.status.busy": "2022-12-31T17:33:05.292064Z",
     "iopub.status.idle": "2022-12-31T17:33:05.307422Z",
     "shell.execute_reply": "2022-12-31T17:33:05.306151Z"
    },
    "jupyter": {
     "outputs_hidden": false
    },
    "papermill": {
     "duration": 0.023902,
     "end_time": "2022-12-31T17:33:05.310249",
     "exception": false,
     "start_time": "2022-12-31T17:33:05.286347",
     "status": "completed"
    },
    "tags": []
   },
   "outputs": [
    {
     "name": "stdout",
     "output_type": "stream",
     "text": [
      "/kaggle/input/titanic/train.csv\n",
      "/kaggle/input/titanic/test.csv\n",
      "/kaggle/input/titanic/gender_submission.csv\n"
     ]
    }
   ],
   "source": [
    "# This Python 3 environment comes with many helpful analytics libraries installed\n",
    "# It is defined by the kaggle/python Docker image: https://github.com/kaggle/docker-python\n",
    "# For example, here's several helpful packages to load\n",
    "\n",
    "import numpy as np # linear algebra\n",
    "import pandas as pd # data processing, CSV file I/O (e.g. pd.read_csv)\n",
    "\n",
    "# Input data files are available in the read-only \"../input/\" directory\n",
    "# For example, running this (by clicking run or pressing Shift+Enter) will list all files under the input directory\n",
    "\n",
    "import os\n",
    "for dirname, _, filenames in os.walk('/kaggle/input'):\n",
    "    for filename in filenames:\n",
    "        print(os.path.join(dirname, filename))\n",
    "\n",
    "# You can write up to 20GB to the current directory (/kaggle/working/) that gets preserved as output when you create a version using \"Save & Run All\" \n",
    "# You can also write temporary files to /kaggle/temp/, but they won't be saved outside of the current session"
   ]
  },
  {
   "cell_type": "code",
   "execution_count": 2,
   "id": "bbc0ab88",
   "metadata": {
    "_cell_guid": "916d0710-f4e9-4e90-b7e4-75e53bfd8c7f",
    "_uuid": "c2b3550a-54a9-442f-9373-d2c708863e78",
    "collapsed": false,
    "execution": {
     "iopub.execute_input": "2022-12-31T17:33:05.317023Z",
     "iopub.status.busy": "2022-12-31T17:33:05.316103Z",
     "iopub.status.idle": "2022-12-31T17:33:05.362230Z",
     "shell.execute_reply": "2022-12-31T17:33:05.361128Z"
    },
    "jupyter": {
     "outputs_hidden": false
    },
    "papermill": {
     "duration": 0.052243,
     "end_time": "2022-12-31T17:33:05.365098",
     "exception": false,
     "start_time": "2022-12-31T17:33:05.312855",
     "status": "completed"
    },
    "tags": []
   },
   "outputs": [],
   "source": [
    "df_1 = pd.read_csv(\"/kaggle/input/titanic/train.csv\")\n",
    "df_2 = pd.read_csv(\"/kaggle/input/titanic/test.csv\")\n",
    "\n",
    "missing = df_1[\"Embarked\"].isnull()\n",
    "df_1.drop(missing[missing].index, inplace=True)\n",
    "df1_cat = df_1[[\"Sex\",\"Pclass\", \"SibSp\", \"Parch\", \"Embarked\"]]\n",
    "df2_cat = df_2[[\"Sex\",\"Pclass\", \"SibSp\", \"Parch\", \"Embarked\"]]"
   ]
  },
  {
   "cell_type": "code",
   "execution_count": 3,
   "id": "6105bb33",
   "metadata": {
    "_cell_guid": "17181c25-2811-41b9-beb2-bc712197db03",
    "_uuid": "8b6e22a8-0217-4ed0-8af9-6e3755277ae8",
    "collapsed": false,
    "execution": {
     "iopub.execute_input": "2022-12-31T17:33:05.371558Z",
     "iopub.status.busy": "2022-12-31T17:33:05.371198Z",
     "iopub.status.idle": "2022-12-31T17:33:06.524061Z",
     "shell.execute_reply": "2022-12-31T17:33:06.522530Z"
    },
    "jupyter": {
     "outputs_hidden": false
    },
    "papermill": {
     "duration": 1.158998,
     "end_time": "2022-12-31T17:33:06.526561",
     "exception": false,
     "start_time": "2022-12-31T17:33:05.367563",
     "status": "completed"
    },
    "tags": []
   },
   "outputs": [
    {
     "name": "stderr",
     "output_type": "stream",
     "text": [
      "/opt/conda/lib/python3.7/site-packages/ipykernel_launcher.py:16: SettingWithCopyWarning: \n",
      "A value is trying to be set on a copy of a slice from a DataFrame.\n",
      "Try using .loc[row_indexer,col_indexer] = value instead\n",
      "\n",
      "See the caveats in the documentation: https://pandas.pydata.org/pandas-docs/stable/user_guide/indexing.html#returning-a-view-versus-a-copy\n",
      "  \n",
      "/opt/conda/lib/python3.7/site-packages/ipykernel_launcher.py:18: SettingWithCopyWarning: \n",
      "A value is trying to be set on a copy of a slice from a DataFrame.\n",
      "Try using .loc[row_indexer,col_indexer] = value instead\n",
      "\n",
      "See the caveats in the documentation: https://pandas.pydata.org/pandas-docs/stable/user_guide/indexing.html#returning-a-view-versus-a-copy\n"
     ]
    }
   ],
   "source": [
    "from sklearn.preprocessing import StandardScaler\n",
    "from sklearn.impute import SimpleImputer\n",
    "\n",
    "one_hot_vars_1 = pd.get_dummies(df1_cat)\n",
    "one_hot_vars_2 = pd.get_dummies(df2_cat)\n",
    "\n",
    "scaler = StandardScaler()\n",
    "scaler.fit(df_1[\"Fare\"].values.reshape(-1,1))\n",
    "df_1[\"Fare\"] = scaler.transform(df_1[\"Fare\"].values.reshape(-1,1))\n",
    "\n",
    "x_train = pd.concat([one_hot_vars_1, df_1[\"Fare\"]], axis=1)\n",
    "y_train = df_1[\"Survived\"]\n",
    "\n",
    "mean_imputer = SimpleImputer(strategy='mean')\n",
    "test_cont = df_2[['Fare']]\n",
    "test_cont['Fare'] = mean_imputer.fit_transform(test_cont['Fare'].values.reshape(-1,1))\n",
    "scaler.fit(test_cont['Fare'].values.reshape(-1,1))\n",
    "test_cont['Fare'] = scaler.transform(test_cont['Fare'].values.reshape(-1,1))\n",
    "x_test = pd.concat([one_hot_vars_2, test_cont[\"Fare\"]], axis=1)"
   ]
  },
  {
   "cell_type": "code",
   "execution_count": 4,
   "id": "fb5d34c5",
   "metadata": {
    "_cell_guid": "f5f0807e-f0bc-4e76-9c17-36fb5f3bc967",
    "_uuid": "50e7bb1a-c0a1-4a1e-b1d7-2449f22e4ca1",
    "collapsed": false,
    "execution": {
     "iopub.execute_input": "2022-12-31T17:33:06.532867Z",
     "iopub.status.busy": "2022-12-31T17:33:06.532459Z",
     "iopub.status.idle": "2022-12-31T17:33:06.571833Z",
     "shell.execute_reply": "2022-12-31T17:33:06.570847Z"
    },
    "jupyter": {
     "outputs_hidden": false
    },
    "papermill": {
     "duration": 0.045409,
     "end_time": "2022-12-31T17:33:06.574418",
     "exception": false,
     "start_time": "2022-12-31T17:33:06.529009",
     "status": "completed"
    },
    "tags": []
   },
   "outputs": [],
   "source": [
    "from sklearn.tree import DecisionTreeClassifier\n",
    "\n",
    "clf = DecisionTreeClassifier()\n",
    "clf.fit(x_train, y_train)\n",
    "\n",
    "y_pred = clf.predict(x_test)\n",
    "data = {'PassengerId':df_2[\"PassengerId\"], 'Survived': y_pred}\n",
    "df_final = pd.DataFrame(data)\n",
    "df_final.to_csv(\"submission.csv\", index=False)"
   ]
  }
 ],
 "metadata": {
  "kernelspec": {
   "display_name": "Python 3",
   "language": "python",
   "name": "python3"
  },
  "language_info": {
   "codemirror_mode": {
    "name": "ipython",
    "version": 3
   },
   "file_extension": ".py",
   "mimetype": "text/x-python",
   "name": "python",
   "nbconvert_exporter": "python",
   "pygments_lexer": "ipython3",
   "version": "3.7.12"
  },
  "papermill": {
   "default_parameters": {},
   "duration": 10.279404,
   "end_time": "2022-12-31T17:33:07.299603",
   "environment_variables": {},
   "exception": null,
   "input_path": "__notebook__.ipynb",
   "output_path": "__notebook__.ipynb",
   "parameters": {},
   "start_time": "2022-12-31T17:32:57.020199",
   "version": "2.3.4"
  }
 },
 "nbformat": 4,
 "nbformat_minor": 5
}
