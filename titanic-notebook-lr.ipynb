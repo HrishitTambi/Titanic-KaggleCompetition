{
 "cells": [
  {
   "cell_type": "code",
   "execution_count": 1,
   "id": "870a7aba",
   "metadata": {
    "_cell_guid": "b1076dfc-b9ad-4769-8c92-a6c4dae69d19",
    "_uuid": "8f2839f25d086af736a60e9eeb907d3b93b6e0e5",
    "execution": {
     "iopub.execute_input": "2022-12-26T18:24:01.295445Z",
     "iopub.status.busy": "2022-12-26T18:24:01.294464Z",
     "iopub.status.idle": "2022-12-26T18:24:01.320555Z",
     "shell.execute_reply": "2022-12-26T18:24:01.319187Z"
    },
    "papermill": {
     "duration": 0.034464,
     "end_time": "2022-12-26T18:24:01.323413",
     "exception": false,
     "start_time": "2022-12-26T18:24:01.288949",
     "status": "completed"
    },
    "tags": []
   },
   "outputs": [
    {
     "name": "stdout",
     "output_type": "stream",
     "text": [
      "/kaggle/input/titanic/train.csv\n",
      "/kaggle/input/titanic/test.csv\n",
      "/kaggle/input/titanic/gender_submission.csv\n",
      "/kaggle/input/d/hrishitkaggle/titanic/train.csv\n",
      "/kaggle/input/d/hrishitkaggle/titanic/test.csv\n",
      "/kaggle/input/d/hrishitkaggle/titanic/gender_submission.csv\n"
     ]
    }
   ],
   "source": [
    "import numpy as np \n",
    "import pandas as pd \n",
    "import matplotlib.pyplot as plt\n",
    "\n",
    "import os\n",
    "for dirname, _, filenames in os.walk('/kaggle/input'):\n",
    "    for filename in filenames:\n",
    "        print(os.path.join(dirname, filename))"
   ]
  },
  {
   "cell_type": "code",
   "execution_count": 2,
   "id": "a32dced0",
   "metadata": {
    "execution": {
     "iopub.execute_input": "2022-12-26T18:24:01.330824Z",
     "iopub.status.busy": "2022-12-26T18:24:01.330087Z",
     "iopub.status.idle": "2022-12-26T18:24:02.567712Z",
     "shell.execute_reply": "2022-12-26T18:24:02.566188Z"
    },
    "papermill": {
     "duration": 1.244034,
     "end_time": "2022-12-26T18:24:02.570303",
     "exception": false,
     "start_time": "2022-12-26T18:24:01.326269",
     "status": "completed"
    },
    "tags": []
   },
   "outputs": [
    {
     "name": "stderr",
     "output_type": "stream",
     "text": [
      "/opt/conda/lib/python3.7/site-packages/ipykernel_launcher.py:10: SettingWithCopyWarning: \n",
      "A value is trying to be set on a copy of a slice from a DataFrame.\n",
      "Try using .loc[row_indexer,col_indexer] = value instead\n",
      "\n",
      "See the caveats in the documentation: https://pandas.pydata.org/pandas-docs/stable/user_guide/indexing.html#returning-a-view-versus-a-copy\n",
      "  # Remove the CWD from sys.path while we load stuff.\n",
      "/opt/conda/lib/python3.7/site-packages/ipykernel_launcher.py:18: SettingWithCopyWarning: \n",
      "A value is trying to be set on a copy of a slice from a DataFrame.\n",
      "Try using .loc[row_indexer,col_indexer] = value instead\n",
      "\n",
      "See the caveats in the documentation: https://pandas.pydata.org/pandas-docs/stable/user_guide/indexing.html#returning-a-view-versus-a-copy\n",
      "/opt/conda/lib/python3.7/site-packages/ipykernel_launcher.py:19: SettingWithCopyWarning: \n",
      "A value is trying to be set on a copy of a slice from a DataFrame.\n",
      "Try using .loc[row_indexer,col_indexer] = value instead\n",
      "\n",
      "See the caveats in the documentation: https://pandas.pydata.org/pandas-docs/stable/user_guide/indexing.html#returning-a-view-versus-a-copy\n"
     ]
    }
   ],
   "source": [
    "from sklearn.impute import SimpleImputer\n",
    "\n",
    "df_1 = pd.read_csv(\"/kaggle/input/titanic/train.csv\")\n",
    "df_2 = pd.read_csv(\"/kaggle/input/titanic/test.csv\")\n",
    "df_1[\"Sex\"] = df_1[\"Sex\"].replace({\"male\":0, \"female\":1})\n",
    "train_cat = df_1[['Embarked','Parch','SibSp','Pclass']]\n",
    "train_cat = train_cat.dropna(axis=0)\n",
    "train_cont = df_1[['Age','Fare']]\n",
    "mean_imputer = SimpleImputer(strategy='mean')\n",
    "train_cont['Age'] = mean_imputer.fit_transform(train_cont['Age'].values.reshape(-1,1))\n",
    "\n",
    "df_2[\"Sex\"] = df_2[\"Sex\"].replace({\"male\":0, \"female\":1})\n",
    "test_cat = df_2[['Embarked','Parch','SibSp','Pclass']]\n",
    "test_cat =test_cat.dropna(axis=0)\n",
    "test_cont = df_2[['Age','Fare']]\n",
    "test_cont['Age'] = mean_imputer.fit_transform(test_cont['Age'].values.reshape(-1,1))\n",
    "test_cont['Fare'] = mean_imputer.fit_transform(test_cont['Fare'].values.reshape(-1,1))"
   ]
  },
  {
   "cell_type": "code",
   "execution_count": 3,
   "id": "a7c0dada",
   "metadata": {
    "execution": {
     "iopub.execute_input": "2022-12-26T18:24:02.577778Z",
     "iopub.status.busy": "2022-12-26T18:24:02.576507Z",
     "iopub.status.idle": "2022-12-26T18:24:02.646074Z",
     "shell.execute_reply": "2022-12-26T18:24:02.644126Z"
    },
    "papermill": {
     "duration": 0.076006,
     "end_time": "2022-12-26T18:24:02.648819",
     "exception": false,
     "start_time": "2022-12-26T18:24:02.572813",
     "status": "completed"
    },
    "tags": []
   },
   "outputs": [
    {
     "name": "stdout",
     "output_type": "stream",
     "text": [
      "     Sex         0         1    0    1    2    3    4    5    6  ...   10  \\\n",
      "0      0 -0.592481 -0.502445  0.0  0.0  1.0  1.0  0.0  0.0  0.0  ...  0.0   \n",
      "1      1  0.638789  0.786845  1.0  0.0  0.0  1.0  0.0  0.0  0.0  ...  0.0   \n",
      "2      1 -0.284663 -0.488854  0.0  0.0  1.0  1.0  0.0  0.0  0.0  ...  1.0   \n",
      "3      1  0.407926  0.420730  0.0  0.0  1.0  1.0  0.0  0.0  0.0  ...  0.0   \n",
      "4      0  0.407926 -0.486337  0.0  0.0  1.0  1.0  0.0  0.0  0.0  ...  1.0   \n",
      "..   ...       ...       ...  ...  ...  ...  ...  ...  ...  ...  ...  ...   \n",
      "884    0 -0.361618 -0.506472  0.0  0.0  1.0  1.0  0.0  0.0  0.0  ...  1.0   \n",
      "885    1  0.715743 -0.061999  0.0  0.0  1.0  1.0  0.0  0.0  0.0  ...  1.0   \n",
      "886    0 -0.207709 -0.386671  0.0  0.0  1.0  0.0  0.0  1.0  0.0  ...  0.0   \n",
      "887    1 -0.823344 -0.044381  1.0  0.0  0.0  1.0  0.0  0.0  0.0  ...  1.0   \n",
      "888    1  0.000000 -0.176263  0.0  1.0  0.0  1.0  0.0  0.0  0.0  ...  1.0   \n",
      "\n",
      "      11   12   13   14   15   16   17   18   19  \n",
      "0    1.0  0.0  0.0  0.0  0.0  0.0  0.0  0.0  1.0  \n",
      "1    1.0  0.0  0.0  0.0  0.0  0.0  1.0  0.0  0.0  \n",
      "2    0.0  0.0  0.0  0.0  0.0  0.0  0.0  0.0  1.0  \n",
      "3    1.0  0.0  0.0  0.0  0.0  0.0  1.0  0.0  0.0  \n",
      "4    0.0  0.0  0.0  0.0  0.0  0.0  0.0  0.0  1.0  \n",
      "..   ...  ...  ...  ...  ...  ...  ...  ...  ...  \n",
      "884  0.0  0.0  0.0  0.0  0.0  0.0  0.0  1.0  0.0  \n",
      "885  0.0  0.0  0.0  0.0  0.0  0.0  1.0  0.0  0.0  \n",
      "886  1.0  0.0  0.0  0.0  0.0  0.0  0.0  0.0  1.0  \n",
      "887  0.0  0.0  0.0  0.0  0.0  0.0  1.0  0.0  0.0  \n",
      "888  0.0  0.0  0.0  0.0  0.0  0.0  0.0  0.0  1.0  \n",
      "\n",
      "[889 rows x 23 columns]\n",
      "            0         0    0    0         1         1    1    1    2    3  \\\n",
      "0   -0.592481 -0.592481  0.0  0.0 -0.502445 -0.502445  0.0  0.0  1.0  1.0   \n",
      "1    0.638789  0.638789  1.0  1.0  0.786845  0.786845  0.0  0.0  0.0  1.0   \n",
      "2   -0.284663 -0.284663  0.0  0.0 -0.488854 -0.488854  0.0  0.0  1.0  1.0   \n",
      "3    0.407926  0.407926  0.0  0.0  0.420730  0.420730  0.0  0.0  1.0  1.0   \n",
      "4    0.407926  0.407926  0.0  0.0 -0.486337 -0.486337  0.0  0.0  1.0  1.0   \n",
      "..        ...       ...  ...  ...       ...       ...  ...  ...  ...  ...   \n",
      "884 -0.361618 -0.361618  0.0  0.0 -0.506472 -0.506472  0.0  0.0  1.0  1.0   \n",
      "885  0.715743  0.715743  0.0  0.0 -0.061999 -0.061999  0.0  0.0  1.0  1.0   \n",
      "886 -0.207709 -0.207709  0.0  0.0 -0.386671 -0.386671  0.0  0.0  1.0  0.0   \n",
      "887 -0.823344 -0.823344  1.0  1.0 -0.044381 -0.044381  0.0  0.0  0.0  1.0   \n",
      "888  0.000000  0.000000  0.0  0.0 -0.176263 -0.176263  1.0  1.0  0.0  1.0   \n",
      "\n",
      "     ...   11   12   13   14   15   16   17   18   19  Sex  \n",
      "0    ...  1.0  0.0  0.0  0.0  0.0  0.0  0.0  0.0  1.0    0  \n",
      "1    ...  1.0  0.0  0.0  0.0  0.0  0.0  1.0  0.0  0.0    1  \n",
      "2    ...  0.0  0.0  0.0  0.0  0.0  0.0  0.0  0.0  1.0    1  \n",
      "3    ...  1.0  0.0  0.0  0.0  0.0  0.0  1.0  0.0  0.0    1  \n",
      "4    ...  0.0  0.0  0.0  0.0  0.0  0.0  0.0  0.0  1.0    0  \n",
      "..   ...  ...  ...  ...  ...  ...  ...  ...  ...  ...  ...  \n",
      "884  ...  0.0  0.0  0.0  0.0  0.0  0.0  0.0  1.0  0.0    0  \n",
      "885  ...  0.0  0.0  0.0  0.0  0.0  0.0  1.0  0.0  0.0    1  \n",
      "886  ...  1.0  0.0  0.0  0.0  0.0  0.0  0.0  0.0  1.0    0  \n",
      "887  ...  0.0  0.0  0.0  0.0  0.0  0.0  1.0  0.0  0.0    1  \n",
      "888  ...  0.0  0.0  0.0  0.0  0.0  0.0  0.0  0.0  1.0    1  \n",
      "\n",
      "[889 rows x 27 columns]\n"
     ]
    }
   ],
   "source": [
    "from sklearn.preprocessing import StandardScaler, OneHotEncoder\n",
    "\n",
    "scaler = StandardScaler()\n",
    "scaled_cont_vars_1 = scaler.fit_transform(train_cont)\n",
    "scaled_cont_vars_1 = pd.DataFrame(scaled_cont_vars_1)\n",
    "scaled_cont_vars_2 = scaler.fit_transform(test_cont)\n",
    "scaled_cont_vars_2 = pd.DataFrame(scaled_cont_vars_2)\n",
    "\n",
    "encoder = OneHotEncoder()\n",
    "one_hot_cat_vars_1 = encoder.fit_transform(train_cat)\n",
    "one_hot_cat_vars_1 = pd.DataFrame(one_hot_cat_vars_1.toarray())\n",
    "one_hot_cat_vars_2 = encoder.fit_transform(test_cat)\n",
    "one_hot_cat_vars_2 = pd.DataFrame(one_hot_cat_vars_2.toarray())\n",
    "\n",
    "x_train = pd.concat([df_1[\"Sex\"],scaled_cont_vars_1, one_hot_cat_vars_1], axis=1)\n",
    "y_train = df_1.iloc[:, [1]]\n",
    "x_train = x_train.drop(index=[889,890])\n",
    "y_train = y_train.drop(index=[889,890])\n",
    "x_test = pd.concat([df_2[\"Sex\"],scaled_cont_vars_2, one_hot_cat_vars_2], axis=1)\n",
    "a1, a2 = x_train.align(x_test, join=\"left\", axis=1)"
   ]
  },
  {
   "cell_type": "code",
   "execution_count": 4,
   "id": "4afe42b9",
   "metadata": {
    "execution": {
     "iopub.execute_input": "2022-12-26T18:24:02.655721Z",
     "iopub.status.busy": "2022-12-26T18:24:02.655332Z",
     "iopub.status.idle": "2022-12-26T18:24:02.731434Z",
     "shell.execute_reply": "2022-12-26T18:24:02.729747Z"
    },
    "papermill": {
     "duration": 0.084739,
     "end_time": "2022-12-26T18:24:02.736210",
     "exception": false,
     "start_time": "2022-12-26T18:24:02.651471",
     "status": "completed"
    },
    "tags": []
   },
   "outputs": [
    {
     "name": "stderr",
     "output_type": "stream",
     "text": [
      "/opt/conda/lib/python3.7/site-packages/sklearn/utils/validation.py:1692: FutureWarning: Feature names only support names that are all strings. Got feature names with dtypes: ['int', 'str']. An error will be raised in 1.2.\n",
      "  FutureWarning,\n",
      "/opt/conda/lib/python3.7/site-packages/sklearn/utils/validation.py:993: DataConversionWarning: A column-vector y was passed when a 1d array was expected. Please change the shape of y to (n_samples, ), for example using ravel().\n",
      "  y = column_or_1d(y, warn=True)\n",
      "/opt/conda/lib/python3.7/site-packages/sklearn/utils/validation.py:1692: FutureWarning: Feature names only support names that are all strings. Got feature names with dtypes: ['int', 'str']. An error will be raised in 1.2.\n",
      "  FutureWarning,\n"
     ]
    }
   ],
   "source": [
    "from sklearn.model_selection import train_test_split\n",
    "from sklearn.linear_model import LogisticRegression\n",
    "\n",
    "model = LogisticRegression()\n",
    "model.fit(a1, y_train)\n",
    "\n",
    "new_col = ['PassengerId', 'Survived']\n",
    "df_2['Survived'] = model.predict(a2)\n",
    "y_test = df_2['Survived']\n",
    "df_2[new_col].to_csv('submission.csv', index=False)"
   ]
  }
 ],
 "metadata": {
  "kernelspec": {
   "display_name": "Python 3",
   "language": "python",
   "name": "python3"
  },
  "language_info": {
   "codemirror_mode": {
    "name": "ipython",
    "version": 3
   },
   "file_extension": ".py",
   "mimetype": "text/x-python",
   "name": "python",
   "nbconvert_exporter": "python",
   "pygments_lexer": "ipython3",
   "version": "3.7.12"
  },
  "papermill": {
   "default_parameters": {},
   "duration": 14.93937,
   "end_time": "2022-12-26T18:24:06.090650",
   "environment_variables": {},
   "exception": null,
   "input_path": "__notebook__.ipynb",
   "output_path": "__notebook__.ipynb",
   "parameters": {},
   "start_time": "2022-12-26T18:23:51.151280",
   "version": "2.3.4"
  }
 },
 "nbformat": 4,
 "nbformat_minor": 5
}
